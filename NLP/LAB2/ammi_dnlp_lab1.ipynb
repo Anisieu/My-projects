{
 "cells": [
  {
   "cell_type": "markdown",
   "metadata": {
    "colab_type": "text",
    "id": "view-in-github"
   },
   "source": [
    "<a href=\"https://colab.research.google.com/github/louismartin/ammi-2020-bordes-deep-nlp/blob/master/lab1/ammi_dnlp_lab1.ipynb\" target=\"_parent\"><img src=\"https://colab.research.google.com/assets/colab-badge.svg\" alt=\"Open In Colab\"/></a>"
   ]
  },
  {
   "cell_type": "markdown",
   "metadata": {
    "colab_type": "text",
    "id": "uzAMazBhyO7O"
   },
   "source": [
    "# AMMI Deep Natural Language Processing: Lab 1"
   ]
  },
  {
   "cell_type": "markdown",
   "metadata": {
    "colab_type": "text",
    "id": "z2oBLu8PyV1V"
   },
   "source": [
    "## 0. Introduction"
   ]
  },
  {
   "cell_type": "markdown",
   "metadata": {
    "colab_type": "text",
    "id": "NHed26lWcGwQ"
   },
   "source": [
    "In this tutorial we will train neural networks on the bAbI tasks using ParlAI framework.  \n",
    "This tutorial can be run both in google colab or on your computer.  \n",
    "The solutions will be added during the lab [here](https://fburl.com/ammi_dnlp_lab1).  \n",
    "\n",
    "We will cover the following:\n",
    "0. Introduction\n",
    "    - Introduction to ParlAI and installation\n",
    "    - Introduction to the bAbI tasks\n",
    "1. Exploring the data:\n",
    "    - Compute some statistics (number of examples in train, valid, test, size of examples...)\n",
    "    - Look at some examples\n",
    "2. Choose the appropriate metrics\n",
    "3. Baselines\n",
    "    - Ranom baseline\n",
    "    - Majority class baseline\n",
    "    - Information retrieval baseline\n",
    "4. More elaborate models\n",
    "   - Generative model: Seq2Seq\n",
    "   - Ranking model: Memory Network\n",
    "5. To go further\n",
    "    - Additional ideas to try if you want to dig deeper\n",
    "\n",
    "### ParlAI\n",
    "[ParlAI](https://github.com/facebookresearch/ParlAI/blob/master/README.md) (pronounced “par-lay”) is a framework for dialogue AI research, implemented in Python.\n",
    "\n",
    "Its goal is to provide researchers:\n",
    "\n",
    "* a unified framework for sharing, training and testing dialogue models\n",
    "* many popular datasets available all in one place -- from open-domain chitchat to visual question answering.\n",
    "* a wide set of reference models -- from retrieval baselines to Transformers.\n",
    "* seamless integration of Amazon Mechanical Turk for data collection and human evaluation\n",
    "* integration with Facebook Messenger to connect agents with humans in a chat interface\n",
    "\n",
    "Documentation can be found [here](http://www.parl.ai/static/docs/), some of this tutorial is inspired from the ParlAI documentation so feel free to go back and forth between the notebook and the documentation.\n",
    "\n",
    "\n",
    "### Setup the notebook\n",
    "If using google colab, make sure to use TPU runtime by going to ***Runtime > Change runtime type > Hardware accelerator: TPU > Save***"
   ]
  },
  {
   "cell_type": "markdown",
   "metadata": {
    "colab_type": "text",
    "id": "-k8BZE3HJaut"
   },
   "source": [
    "### Install ParlAI\n",
    "\n",
    "Start by installing ParlAI from github. The ParlAI folder will be located in the home directory at `~/ParlAI/`.  \n",
    "*Note: In a jupyter notebook, you can run arbitrary bash commands by prefixing them with a question mark, example: `!echo \"Hello World\"`*"
   ]
  },
  {
   "cell_type": "code",
   "execution_count": 1,
   "metadata": {
    "colab": {},
    "colab_type": "code",
    "id": "l8V7QcnMI7Wk"
   },
   "outputs": [
    {
     "name": "stdout",
     "output_type": "stream",
     "text": [
      "Cloning into '/home/anisie/ParlAI'...\n",
      "remote: Enumerating objects: 130, done.\u001b[K\n",
      "remote: Counting objects: 100% (130/130), done.\u001b[K\n",
      "remote: Compressing objects: 100% (81/81), done.\u001b[K\n",
      "remote: Total 29901 (delta 81), reused 76 (delta 46), pack-reused 29771\u001b[K\n",
      "Receiving objects: 100% (29901/29901), 57.57 MiB | 1017.00 KiB/s, done.\n",
      "Resolving deltas: 100% (21264/21264), done.\n",
      "Note: checking out '6bd0e58692b3fd3a13b5f654944525ac1b7cd8e3'.\n",
      "\n",
      "You are in 'detached HEAD' state. You can look around, make experimental\n",
      "changes and commit them, and you can discard any commits you make in this\n",
      "state without impacting any branches by performing another checkout.\n",
      "\n",
      "If you want to create a new branch to retain commits you create, you may\n",
      "do so (now or later) by using -b with the checkout command again. Example:\n",
      "\n",
      "  git checkout -b <new-branch-name>\n",
      "\n",
      "HEAD is now at 6bd0e586 light paper link on webpage! (#1536)\n",
      "zip_safe flag not set; analyzing archive contents...\n",
      "  File \"build/bdist.linux-x86_64/egg/websocket/policyserver.py\", line 21\n",
      "    print 'Accepted connection from %s:%s' % address\n",
      "                                         ^\n",
      "SyntaxError: Missing parentheses in call to 'print'. Did you mean print('Accepted connection from %s:%s' % address)?\n",
      "\n",
      "  File \"build/bdist.linux-x86_64/egg/websocket/server.py\", line 57\n",
      "    except IOError, ex:\n",
      "                  ^\n",
      "SyntaxError: invalid syntax\n",
      "\n",
      "  File \"/home/anisie/anaconda3/lib/python3.7/site-packages/websocket-0.2.1-py3.7.egg/websocket/policyserver.py\", line 21\n",
      "    print 'Accepted connection from %s:%s' % address\n",
      "                                         ^\n",
      "SyntaxError: Missing parentheses in call to 'print'. Did you mean print('Accepted connection from %s:%s' % address)?\n",
      "\n",
      "  File \"/home/anisie/anaconda3/lib/python3.7/site-packages/websocket-0.2.1-py3.7.egg/websocket/server.py\", line 57\n",
      "    except IOError, ex:\n",
      "                  ^\n",
      "SyntaxError: invalid syntax\n",
      "\n"
     ]
    }
   ],
   "source": [
    "# Remove `> /dev/null` to see the output of commands\n",
    "!git clone https://github.com/facebookresearch/ParlAI.git ~/ParlAI  > /dev/null\n",
    "!cd ~/ParlAI && git checkout 6bd0e58692b3fd3a13b5f654944525ac1b7cd8e3\n",
    "!cd ~/ParlAI && python3 setup.py develop > /dev/null"
   ]
  },
  {
   "cell_type": "markdown",
   "metadata": {
    "colab_type": "text",
    "id": "EJDOC-zsL3wR"
   },
   "source": [
    "Most of the scripts that we will use in ParlAI are located in the `~/ParlAI/examples` directory.  \n",
    "Let's have a first glance at the scripts available, we will come back to them later:"
   ]
  },
  {
   "cell_type": "code",
   "execution_count": 2,
   "metadata": {
    "colab": {},
    "colab_type": "code",
    "id": "bIMjwxKrLm36"
   },
   "outputs": [
    {
     "name": "stdout",
     "output_type": "stream",
     "text": [
      "base_train.py\t       eval_model.py\t\t remote.py\n",
      "build_dict.py\t       extract_image_feature.py  seq2seq_train_babi.py\n",
      "build_pytorch_data.py  interactive.py\t\t train_model.py\n",
      "display_data.py        profile_train.py\n",
      "display_model.py       README.md\n"
     ]
    }
   ],
   "source": [
    "!ls ~/ParlAI/examples/"
   ]
  },
  {
   "cell_type": "markdown",
   "metadata": {
    "colab_type": "text",
    "id": "N4UnbCdcqHPu"
   },
   "source": [
    "### The bAbI tasks\n",
    "Many datasets and tasks are included in ParlAI, we will focus on the bAbI tasks.\n",
    "The bAbI tasks are 20 synthetic tasks that each test a unique aspect of text and reasoning, and hence test different capabilities of learning models from [Weston et al. ‘16](http://arxiv.org/abs/1502.05698).\n",
    "\n",
    "---\n",
    "**Question 0.**  \n",
    "Open the bAbI [paper](https://arxiv.org/pdf/1502.05698.pdf) and read the abstract  and section: *\"3 The Tasks\"* (until paragraph **Two or Three Supporting Facts**,  included).  \n",
    "- **0.a.** Explain in your own words the motivations behind these tasks (in 2-3 sentences).\n",
    "\n",
    "*ANSWER HERE*\n",
    "\n",
    "---\n",
    "\n",
    "These tasks can be downloaded and used directly from ParlAI.  \n",
    "We will focus on tasks 1, 2 and 3, see examples below:\n",
    "\n",
    "\n",
    "**Task 1: Single Supporting Fact**  \n",
    "Mary went to the bathroom.  \n",
    "John moved to the hallway.  \n",
    "Mary travelled to the office.  \n",
    "Where is Mary?  \n",
    "**Answer: office**  \n",
    "\n",
    "\n",
    "**Task 2: Two Supporting Facts**  \n",
    "John is in the playground.  \n",
    "John picked up the football.  \n",
    "Bob went to the kitchen.  \n",
    "Where is the football?  \n",
    "**Answer: playground**\n",
    "\n",
    "\n",
    "**Task 3: Three Supporting Facts **  \n",
    "John picked up the apple.  \n",
    "John went to the office.  \n",
    "John went to the kitchen.  \n",
    "John dropped the apple.   \n",
    "Where was the apple before the kitchen?  \n",
    "**Answer: office**\n",
    "\n"
   ]
  },
  {
   "cell_type": "markdown",
   "metadata": {
    "colab_type": "text",
    "id": "L6IZA9r0MjBd"
   },
   "source": [
    "## 1. Exploring the data"
   ]
  },
  {
   "cell_type": "markdown",
   "metadata": {
    "colab_type": "text",
    "id": "1Cc-Si6SyatK"
   },
   "source": [
    "First we need to download the data, we will use the `build_dict.py` as a dummy task to download the data."
   ]
  },
  {
   "cell_type": "code",
   "execution_count": 3,
   "metadata": {
    "colab": {},
    "colab_type": "code",
    "id": "XAEH7xUXtxFj"
   },
   "outputs": [
    {
     "name": "stdout",
     "output_type": "stream",
     "text": [
      "[ Main ParlAI Arguments: ] \n",
      "[  batchsize: 1 ]\n",
      "[  datapath: /home/anisie/ParlAI/data ]\n",
      "[  datatype: train ]\n",
      "[  download_path: /home/anisie/ParlAI/downloads ]\n",
      "[  hide_labels: False ]\n",
      "[  image_mode: raw ]\n",
      "[  multitask_weights: [1] ]\n",
      "[  numthreads: 1 ]\n",
      "[  show_advanced_args: False ]\n",
      "[  task: babi:task1k:1 ]\n",
      "[ ParlAI Model Arguments: ] \n",
      "[  dict_class: None ]\n",
      "[  init_model: None ]\n",
      "[  model: None ]\n",
      "[  model_file: None ]\n",
      "[ PytorchData Arguments: ] \n",
      "[  batch_length_range: 5 ]\n",
      "[  batch_sort_cache_type: pop ]\n",
      "[  batch_sort_field: text ]\n",
      "[  numworkers: 4 ]\n",
      "[  pytorch_context_length: -1 ]\n",
      "[  pytorch_datapath: None ]\n",
      "[  pytorch_include_labels: True ]\n",
      "[  pytorch_preprocess: False ]\n",
      "[  pytorch_teacher_batch_sort: False ]\n",
      "[  pytorch_teacher_dataset: None ]\n",
      "[  pytorch_teacher_task: None ]\n",
      "[  shuffle: False ]\n",
      "[ Dictionary Loop Arguments: ] \n",
      "[  dict_include_test: False ]\n",
      "[  dict_include_valid: False ]\n",
      "[  dict_maxexs: -1 ]\n",
      "[  log_every_n_secs: 2 ]\n",
      "[ Dictionary Arguments: ] \n",
      "[  bpe_debug: False ]\n",
      "[  dict_endtoken: __end__ ]\n",
      "[  dict_file: /tmp/babi1.dict ]\n",
      "[  dict_initpath: None ]\n",
      "[  dict_language: english ]\n",
      "[  dict_lower: False ]\n",
      "[  dict_max_ngram_size: -1 ]\n",
      "[  dict_maxtokens: -1 ]\n",
      "[  dict_minfreq: 0 ]\n",
      "[  dict_nulltoken: __null__ ]\n",
      "[  dict_starttoken: __start__ ]\n",
      "[  dict_textfields: text,labels ]\n",
      "[  dict_tokenizer: re ]\n",
      "[  dict_unktoken: __unk__ ]\n",
      "[ ParlAI Image Preprocessing Arguments: ] \n",
      "[  image_cropsize: 224 ]\n",
      "[  image_size: 256 ]\n",
      "[creating task(s): babi:task1k:1]\n",
      "[building data: /home/anisie/ParlAI/data/bAbI]\n",
      "[ downloading: http://parl.ai/downloads/babi/babi.tar.gz to /home/anisie/ParlAI/data/bAbI/babi.tar.gz ]\n",
      "Downloading babi.tar.gz: 100%|█████████████| 19.2M/19.2M [00:18<00:00, 1.05MB/s]\n",
      "unpacking babi.tar.gz\n",
      "[ running dictionary over data.. ]\n",
      "[loading fbdialog data:/home/anisie/ParlAI/data/bAbI/tasks_1-20_v1-2/en-valid-nosf/qa1_train.txt]\n",
      "Building dictionary:   0%|                           | 0.00/900 [00:00<?, ?ex/s][loading fbdialog data:/home/anisie/ParlAI/data/bAbI/tasks_1-20_v1-2/en-valid-nosf/qa1_train.txt]\n",
      "[loading fbdialog data:/home/anisie/ParlAI/data/bAbI/tasks_1-20_v1-2/en-valid-nosf/qa1_train.txt]\n",
      "Building dictionary: 100%|████████████████████| 900/900 [00:00<00:00, 32.7kex/s]\n",
      "Dictionary: saving dictionary to /tmp/babi1.dict\n",
      "[ dictionary built with 26 tokens in 0s ]\n",
      "1 Mary moved to the bathroom.\n",
      "2 John went to the hallway.\n",
      "3 Where is Mary? \tbathroom\n",
      "4 Daniel went back to the hallway.\n",
      "5 Sandra moved to the garden.\n",
      "6 Where is Daniel? \thallway\n",
      "7 John moved to the office.\n",
      "8 Sandra journeyed to the bathroom.\n",
      "9 Where is Daniel? \thallway\n",
      "10 Mary moved to the hallway.\n",
      "11 Daniel travelled to the office.\n",
      "12 Where is Daniel? \toffice\n",
      "13 John went back to the garden.\n",
      "14 John moved to the bedroom.\n",
      "15 Where is Sandra? \tbathroom\n",
      "1 Mary went to the bedroom.\n",
      "2 John journeyed to the bathroom.\n",
      "3 Where is John? \tbathroom\n",
      "4 Sandra journeyed to the hallway.\n",
      "5 John journeyed to the garden.\n",
      "6 Where is Mary? \tbedroom\n",
      "7 John journeyed to the bathroom.\n",
      "8 Sandra journeyed to the garden.\n",
      "9 Where is John? \tbathroom\n",
      "10 Sandra went back to the bedroom.\n",
      "11 Daniel travelled to the bathroom.\n",
      "12 Where is John? \tbathroom\n",
      "13 John went to the office.\n",
      "14 Mary moved to the office.\n",
      "15 Where is Sandra? \tbedroom\n"
     ]
    }
   ],
   "source": [
    "# Download the data silently\n",
    "!python ~/ParlAI/examples/build_dict.py --task babi:task1k:1 --dict-file /tmp/babi1.dict\n",
    "# Print a few examples\n",
    "!head -n 30 ~/ParlAI/data/bAbI/tasks_1-20_v1-2/en-valid-10k-nosf/qa1_train.txt"
   ]
  },
  {
   "cell_type": "markdown",
   "metadata": {
    "colab_type": "text",
    "id": "vbc5n2xpPnsb"
   },
   "source": [
    "The bAbI tasks were downloaded in `~/ParlAI/data/bAbI/tasks_1-20_v1-2/en-valid-nosf/`\n",
    "\n",
    "In bAbI the data is organised as follows:\n",
    "- **Dialog turn**: A dialog turn is a single utterance / statement. Each line in the file corresponds to one dialog turn.   \n",
    "  Example: *\"John went to the office.\"*\n",
    "- **Sample (question)**: Every few dialog turns, a question can be asked that the model has to answer, this consitute a sample.  The question is followed by its ground truth answer, separated by a tab.\n",
    "  Example: *\"Where is John? `<tab>` bathroom\"*\n",
    "- **Episode**: a sequence of ordered coherent dialog turns that are related to each other form an episode. Each new episode is independant of the others. Each line starts with the dialog turn number in the current episode.\n",
    "\n",
    "\n",
    "---\n",
    "**Question 1.**\n",
    "- **1.a.** Look at the training file of task 1 (`~/ParlAI/data/bAbI/tasks_1-20_v1-2/en/qa1_train.txt`) and compute the following information:\n",
    "  - Number of episodes\n",
    "  - Number of  samples (questions)\n",
    "  - Number of dialog turns per episode\n",
    "  - How many different answers are there in the train set? How many times does each appear? (*hint: Use a python [counter](https://docs.python.org/3/library/collections.html#collections.Counter)*)\n",
    "  - How many unique words appear in the training set? How many time does each appear? (*hint: Use the Counter `most_common()` method*)\n",
    "\n",
    "*Print the answer in the following code cell*\n",
    "  \n",
    "  ---"
   ]
  },
  {
   "cell_type": "code",
   "execution_count": null,
   "metadata": {
    "colab": {},
    "colab_type": "code",
    "id": "nk7B40wOf8nU"
   },
   "outputs": [],
   "source": [
    "# FILL THIS CELL\n",
    "from collections import Counter\n",
    "\n",
    "\n",
    "task_1_train_path = '/root/ParlAI/data/bAbI/tasks_1-20_v1-2/en-valid-10k-nosf/qa1_train.txt'\n",
    "with open(task_1_train_path, 'r') as f:\n",
    "    # FILL CODE HERE"
   ]
  },
  {
   "cell_type": "markdown",
   "metadata": {
    "colab_type": "text",
    "id": "XNYNtDHiuVq8"
   },
   "source": [
    "\n",
    "- **2.b.** Use the appropriate script from the `~/ParlAI/examples/` to take a quick look at examples of the first bAbI task.  \n",
    "Does the number of episodes and examples fit what you computed before? (*hint: you can use the argument `--task babi:task1k:1` to select the first babi task*)"
   ]
  },
  {
   "cell_type": "code",
   "execution_count": null,
   "metadata": {
    "colab": {},
    "colab_type": "code",
    "id": "f6HlIvzGgKv2"
   },
   "outputs": [],
   "source": [
    "# FILL THIS CELL"
   ]
  },
  {
   "cell_type": "markdown",
   "metadata": {
    "colab_type": "text",
    "id": "TovRmKOA858i"
   },
   "source": [
    "## 2. Metrics"
   ]
  },
  {
   "cell_type": "markdown",
   "metadata": {
    "colab_type": "text",
    "id": "g9NV_vBlPSWP"
   },
   "source": [
    "The bAbI task 1 expects single word answers among a small set of possible answers.\n",
    "\n",
    "\n",
    "---\n",
    "**Question 2**  \n",
    "- **2.a.** Which metrics do you think are appropriate for evaluating a model on this task?   \n",
    "-  **2.b.**  What are their respective strengths?  \n",
    "-  **2.c.** When do they fail? (find specific examples)  \n",
    "\n",
    "\n",
    "*ANSWER HERE* \n",
    "\n",
    "\n",
    "\n",
    "\n",
    "---"
   ]
  },
  {
   "cell_type": "markdown",
   "metadata": {
    "colab_type": "text",
    "id": "0_MZKCTW6fh9"
   },
   "source": [
    "## 3. Baseline\n",
    "\n"
   ]
  },
  {
   "cell_type": "markdown",
   "metadata": {
    "colab_type": "text",
    "id": "RSexIY71yiD6"
   },
   "source": [
    "We now have a clearer idea of the data distribution and the metrics that we can use.  \n",
    "The next step is to start solving the tasks with a simple baseline. This will allow us to compare more elaborate models agains this baseline.  \n",
    "Here are a few classical baselines:\n",
    "- **Random model**: The model answers randomly among the set of possible answers for each question\n",
    "-  **Majority class**: The model always answers with the most frequent answer in the training set (majority class)\n",
    "\n",
    "We are going to reimplement these own baselines.  \n",
    "Implementing a new model in ParlAI is detailed in the [tutorial](http://parl.ai/static/docs/seq2seq_tutorial.html) but for our simple baselines, we will only need to inherit the [Agent](https://github.com/facebookresearch/ParlAI/blob/6d246842d3f4e941dd3806f3d9fa62f607d48f59/parlai/core/agents.py#L50) class and override the `act()` method.\n",
    "\n",
    "---\n",
    "**Question 3**  \n",
    "- **3.a.** What would be the accuracy of a model that choses a random answer among the set of possible answers for each question? \n",
    "\n",
    "*ANSWER HERE*\n",
    "\n",
    "---\n",
    "\n",
    "*Note: the `%%writefile` magic command in jupyter writes the content of the cell to a file at the given path.*"
   ]
  },
  {
   "cell_type": "code",
   "execution_count": null,
   "metadata": {
    "colab": {},
    "colab_type": "code",
    "id": "9ahmFL0Rk6g1"
   },
   "outputs": [],
   "source": [
    "!mkdir -p ~/ParlAI/parlai/agents/baseline/\n",
    "!touch ~/ParlAI/parlai/agents/baseline/random.py\n",
    "!touch ~/ParlAI/parlai/agents/baseline/majorityclass.py"
   ]
  },
  {
   "cell_type": "markdown",
   "metadata": {
    "colab_type": "text",
    "id": "mZLM7DtkkJN1"
   },
   "source": [
    "- **3.b.**  Design a baseline that answers a random word in the set of possible answer (run it multiple time to observe variance in results)."
   ]
  },
  {
   "cell_type": "code",
   "execution_count": null,
   "metadata": {
    "colab": {},
    "colab_type": "code",
    "id": "Zx4emBSPjmE-"
   },
   "outputs": [],
   "source": [
    "# FILL THIS CELL\n",
    "%%writefile ~/ParlAI/parlai/agents/baseline/random.py\n",
    "import random\n",
    "\n",
    "from parlai.core.torch_agent import Agent\n",
    "\n",
    "\n",
    "class RandomAgent(Agent):\n",
    "  \n",
    "    def act(self):\n",
    "        # FILL CODE HERE"
   ]
  },
  {
   "cell_type": "code",
   "execution_count": null,
   "metadata": {
    "colab": {},
    "colab_type": "code",
    "id": "dMOWxgVj1Joz"
   },
   "outputs": [],
   "source": [
    "!python ~/ParlAI/examples/eval_model.py -t babi:task10k:1 -m baseline/random | grep accuracy -A 1"
   ]
  },
  {
   "cell_type": "code",
   "execution_count": null,
   "metadata": {
    "colab": {},
    "colab_type": "code",
    "id": "oVs3pOKE2-WE"
   },
   "outputs": [],
   "source": [
    "!python ~/ParlAI/examples/display_model.py -t babi:task10k:1 -m baseline/random -n 10 "
   ]
  },
  {
   "cell_type": "markdown",
   "metadata": {
    "colab_type": "text",
    "id": "3UnE4oVakR4k"
   },
   "source": [
    "- **3.c.**  Design a baseline that answers the most common answer every time (majority class baseline)."
   ]
  },
  {
   "cell_type": "code",
   "execution_count": null,
   "metadata": {
    "colab": {},
    "colab_type": "code",
    "id": "hHIV2NUzGzQc"
   },
   "outputs": [],
   "source": [
    "# FILL THIS CELL\n",
    "%%writefile ~/ParlAI/parlai/agents/baseline/majorityclass.py\n",
    "import random\n",
    "\n",
    "from parlai.core.torch_agent import Agent\n",
    "\n",
    "\n",
    "class MajorityclassAgent(Agent):\n",
    "  \n",
    "    def act(self):\n",
    "        # FILL CODE HERE"
   ]
  },
  {
   "cell_type": "code",
   "execution_count": null,
   "metadata": {
    "colab": {},
    "colab_type": "code",
    "id": "U34z6bx0lJV9"
   },
   "outputs": [],
   "source": [
    "!python ~/ParlAI/examples/eval_model.py -t babi:task10k:1 -m baseline/majorityclass | grep accuracy -A 1"
   ]
  },
  {
   "cell_type": "code",
   "execution_count": null,
   "metadata": {
    "colab": {},
    "colab_type": "code",
    "id": "X8LHkfUS3AL0"
   },
   "outputs": [],
   "source": [
    "!python ~/ParlAI/examples/display_model.py -t babi:task10k:1 -m baseline/majorityclass -n 10"
   ]
  },
  {
   "cell_type": "markdown",
   "metadata": {
    "colab_type": "text",
    "id": "BOW4ZTSekWt9"
   },
   "source": [
    "---\n",
    "- **3.d.**  In which cases would the majority class baseline be better than the random baseline?\n",
    "\n",
    "*ANSWER HERE*\n",
    "\n",
    "---"
   ]
  },
  {
   "cell_type": "markdown",
   "metadata": {
    "colab_type": "text",
    "id": "layL9aTK_D1a"
   },
   "source": [
    "Another slightly more advanced baseline is implemented in ParlAI: the information retrieval baseline (`ir_baseline`)\n",
    "\n",
    "---\n",
    "- **3.e.** Look at the [implementation](https://github.com/facebookresearch/ParlAI/blob/53ea58acf389bffc79c85c43bcdd848eecdcecb4/parlai/agents/ir_baseline/ir_baseline.py#L211) of the IR baseline and explain in a few lines how it works (*hint: look at the following methods `act()` `rank_candidates()`  `score_match()`*)  \n",
    "\n",
    "*ANSWER HERE*\n",
    "\n",
    "\n",
    "---"
   ]
  },
  {
   "cell_type": "markdown",
   "metadata": {
    "colab_type": "text",
    "id": "oKo6zJHwksKA"
   },
   "source": [
    "- **3.f.** Use the IR baseline and compare its with one of your baselines (random and/or majority) on bAbI tasks 1, 2 and 3.  \n",
    "    (*hint: you can use `!python ... -t babi:task1-k:{i+1}` syntax to substitute the task number in a bash command from jupyter*)\n"
   ]
  },
  {
   "cell_type": "code",
   "execution_count": null,
   "metadata": {
    "colab": {},
    "colab_type": "code",
    "id": "EzBAEWP7k10U"
   },
   "outputs": [],
   "source": [
    "# FILL THIS CELL\n",
    "for i in range(3):\n",
    "    print(f'~ Task {i+1} ~')\n",
    "    # FILL CODE HERE"
   ]
  },
  {
   "cell_type": "markdown",
   "metadata": {
    "colab_type": "text",
    "id": "xZGFSbEwJdvx"
   },
   "source": [
    "## 4. More elaborate models\n",
    "\n"
   ]
  },
  {
   "cell_type": "markdown",
   "metadata": {
    "colab_type": "text",
    "id": "wj7onBcoyoZz"
   },
   "source": [
    "We can now continue to more elaborate models and evaluate their performance in perspective to the baselines.\n",
    "We will use the `~/ParlAI/examples/train_model.py` script. Let's first get a glance at its arguments:"
   ]
  },
  {
   "cell_type": "code",
   "execution_count": null,
   "metadata": {
    "colab": {},
    "colab_type": "code",
    "id": "gZa5Xl5Bxxxe"
   },
   "outputs": [],
   "source": [
    "!python ~/ParlAI/examples/train_model.py --help"
   ]
  },
  {
   "cell_type": "markdown",
   "metadata": {
    "colab_type": "text",
    "id": "s2apZUNj6JrS"
   },
   "source": [
    "We can train two types of models:\n",
    "- **Generative models**: The model generates an answer from its vocabulary.\n",
    "- **Ranking models**: The model is given a list of possible answers and has to choose the correct answer. This is much easier for the model since the list of possible answers is often way smaller than the size of the vocabulary\n"
   ]
  },
  {
   "cell_type": "markdown",
   "metadata": {
    "colab_type": "text",
    "id": "HdBwoP2K36DH"
   },
   "source": [
    "### Generative model: seq2seq with attention\n",
    "\n",
    "The generative model we are going to train is a sequence to sequence model with attention based on [Sustskever et al. 2014](https://arxiv.org/abs/1409.3215) and [Bahdanau et al. 2014](https://arxiv.org/abs/1409.0473).\n",
    "      \n",
    "- **4.a.** Briefly explain how attention works in sequence to sequence neural networks.\n",
    "- **4.b.** Do you think attention is useful for the babi tasks? How would you verify it experimentally?\n",
    "\n",
    "*ANSWER HERE*\n",
    "\n",
    "---\n",
    "- **4.c.** Train a seq2seq on bAbI task 1 (10k) and compare its results to the baselines.\n",
    "   (*hint: for faster training use the following arguments `--batchsize 32 --numthreads 1 --num-epochs 5 --hiddensize 64 --embeddingsize 64 --numlayers 1 --decoder shared`)\n"
   ]
  },
  {
   "cell_type": "code",
   "execution_count": null,
   "metadata": {
    "colab": {},
    "colab_type": "code",
    "id": "VIpwQj4NpY5s"
   },
   "outputs": [],
   "source": [
    "# FILL THIS CELL"
   ]
  },
  {
   "cell_type": "code",
   "execution_count": null,
   "metadata": {
    "colab": {},
    "colab_type": "code",
    "id": "OvxjgtEHTXFb"
   },
   "outputs": [],
   "source": [
    "!python ~/ParlAI/examples/display_model.py --task babi:task10k:1 --model seq2seq --model-file /tmp/babi_s2s"
   ]
  },
  {
   "cell_type": "markdown",
   "metadata": {
    "colab_type": "text",
    "id": "DaX_GSktxrz1"
   },
   "source": [
    "### Ranking model: memory network\n",
    "\n",
    "We saw in the class that Memory Networks ([Sukhbaatar et al. 15'](https://papers.nips.cc/paper/5846-end-to-end-memory-networks.pdf)) rely on an explicit memory \"database\". this is especially adapted to tasks where a few useful memories are \"hidden\" among distractor memories.  \n",
    "These type of networks worktherefore  especially well for the bAbI tasks by turning the previous dialog turns as memories and the question as the query.  \n",
    "Here is an illustration of how a memory network work:\n",
    "\n",
    "![Memory Network schema](https://raw.githubusercontent.com/louismartin/ammi-2019-bordes-DeepNLP/master/lab1/memory_network.png)\n",
    "\n",
    "\n",
    "---\n",
    "**Question 4**  \n",
    "- **4.d.** Explain how hops work in a memory network (either with words or formulas using the notations of the above figure)\n",
    "- **4.e.** How can a memory network be used to rank multiple candidates?  \n",
    "  (*hint: you can look at the [implementation](https://github.com/facebookresearch/ParlAI/blob/6bd0e58692b3fd3a13b5f654944525ac1b7cd8e3/parlai/agents/memnn/modules.py#L22) of the memory network in ParlAI and especially the `_score()` method. Recall how the IR baseline worked.*)\n",
    "  \n",
    "*ANSWER HERE*\n",
    "  \n",
    " \n",
    "---"
   ]
  },
  {
   "cell_type": "markdown",
   "metadata": {
    "colab_type": "text",
    "id": "YHICORdji1Cx"
   },
   "source": [
    "\n",
    "- **4.f.** Using the ParlAI implementation, train a memory network on bAbI tasks 1, 2 and 3 (10k) and compare its results with the baselines.  \n",
    "   (*hint: use a 1 thread, a batch size of 32 and 5 epochs*)\n"
   ]
  },
  {
   "cell_type": "code",
   "execution_count": null,
   "metadata": {
    "colab": {},
    "colab_type": "code",
    "id": "iKeyD3UYsaFs"
   },
   "outputs": [],
   "source": [
    "# FILL CELL\n",
    "for i in range(3):\n",
    "    print(f'~ Task {i+1} ~')\n",
    "    # FILL CODE HERE"
   ]
  },
  {
   "cell_type": "markdown",
   "metadata": {
    "colab_type": "text",
    "id": "DHH0Wy34o3_W"
   },
   "source": [
    "## 5. To go further"
   ]
  },
  {
   "cell_type": "markdown",
   "metadata": {
    "colab_type": "text",
    "id": "zaNGupqLssUB"
   },
   "source": [
    "If you want to go further you can try to do the following:\n",
    "\n",
    "- Retrieve and plot the attention of the memory network for the different hops along the memories.\n",
    "- For the seq2seq model, can you plot the training loss? The validation loss? Both on the same plot?\n",
    "- Can you show an example of overfitting?\n",
    "- Adapt the seq2seq model for ranking using the [torch ranker tutorial](http://www.parl.ai/static/docs/tutorial_torch_ranker_agent.html)\n",
    "- Try multitasking babi and squad, does it improve the performance? (this will require more GPU power than what is available in google colab)\n",
    "- You can play around with other models and other tasks\n",
    "- Try interfacing ParlAI with [messenger](http://www.parl.ai/static/docs/tutorial_messenger.html )"
   ]
  }
 ],
 "metadata": {
  "accelerator": "TPU",
  "colab": {
   "collapsed_sections": [
    "N4UnbCdcqHPu"
   ],
   "include_colab_link": true,
   "name": "ammi_dnlp_lab1.ipynb",
   "provenance": [],
   "version": "0.3.2"
  },
  "kernelspec": {
   "display_name": "Python 3",
   "language": "python",
   "name": "python3"
  },
  "language_info": {
   "codemirror_mode": {
    "name": "ipython",
    "version": 3
   },
   "file_extension": ".py",
   "mimetype": "text/x-python",
   "name": "python",
   "nbconvert_exporter": "python",
   "pygments_lexer": "ipython3",
   "version": "3.7.3"
  }
 },
 "nbformat": 4,
 "nbformat_minor": 4
}
